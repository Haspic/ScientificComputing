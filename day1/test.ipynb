{
 "cells": [
  {
   "cell_type": "markdown",
   "id": "dc4f6d5f-b79a-4572-aff2-276d0fbe002c",
   "metadata": {},
   "source": [
    "### BRANCH BASICS ###"
   ]
  },
  {
   "cell_type": "markdown",
   "id": "be3c653d-a604-44f5-af37-05a78295e370",
   "metadata": {},
   "source": [
    "List branch:\n"
   ]
  },
  {
   "cell_type": "raw",
   "id": "a175de5b-97e3-481e-a930-86b02a00b20e",
   "metadata": {
    "tags": []
   },
   "source": [
    "git branch\n",
    "git branch --list"
   ]
  },
  {
   "cell_type": "markdown",
   "id": "c225f7bd-9a5a-49a9-9ece-b3ae4382c825",
   "metadata": {},
   "source": [
    "Create new branch:"
   ]
  },
  {
   "cell_type": "raw",
   "id": "ccfbbdce-64de-4b56-90db-38c18fd2e934",
   "metadata": {
    "tags": []
   },
   "source": [
    "git branch <branch_name>"
   ]
  },
  {
   "cell_type": "markdown",
   "id": "c5477dc4-519a-4f4c-8af0-07bb7526ade1",
   "metadata": {},
   "source": [
    "Delete branch:"
   ]
  },
  {
   "cell_type": "raw",
   "id": "62c8e073-a473-4d48-862a-de835bd16df1",
   "metadata": {},
   "source": [
    "git branch -d <branch_name>\n",
    "git branch -D <branch_name> (force delete)"
   ]
  },
  {
   "cell_type": "markdown",
   "id": "b2a9221a-945b-4707-9f3e-97f1ae72b807",
   "metadata": {},
   "source": [
    "Rename current branch:"
   ]
  },
  {
   "cell_type": "raw",
   "id": "3578b847-ea48-4334-9f21-60d50b85e6ef",
   "metadata": {},
   "source": [
    "git branch -m <branch_new_name>"
   ]
  },
  {
   "cell_type": "markdown",
   "id": "199f4a69-fe5c-4c3c-b3f8-aba569b020b6",
   "metadata": {},
   "source": [
    "List all remote branches:"
   ]
  },
  {
   "cell_type": "raw",
   "id": "bf49dafb-f269-4d70-8d19-12d6c7d671db",
   "metadata": {},
   "source": [
    "git branch -a"
   ]
  },
  {
   "cell_type": "markdown",
   "id": "6e4278d1-024b-47ca-ae8b-58f1b02cef06",
   "metadata": {},
   "source": [
    "Pushing:"
   ]
  },
  {
   "cell_type": "raw",
   "id": "7f841047-e707-40b2-9acd-196713a66108",
   "metadata": {},
   "source": [
    "git remote add origin git@github.com:Haspic/sciqis_test1.git\n",
    "git push --set-upstream origin <master_branch>"
   ]
  },
  {
   "cell_type": "markdown",
   "id": "b33091be-9fd9-4794-a07b-117faff83d13",
   "metadata": {},
   "source": [
    "### BRANCH CREATION ###"
   ]
  },
  {
   "cell_type": "markdown",
   "id": "bf6c46d0-49a3-4f72-bfb8-1688545438b4",
   "metadata": {},
   "source": [
    "Creating new branch pointer:"
   ]
  },
  {
   "cell_type": "raw",
   "id": "de88d87c-aefd-40f0-8d43-7c8920285e5c",
   "metadata": {},
   "source": [
    "git branch <branch_name>"
   ]
  },
  {
   "cell_type": "markdown",
   "id": "09ca04cb-8ea2-45b8-920c-e6df2f10354f",
   "metadata": {},
   "source": [
    "Select new branch:"
   ]
  },
  {
   "cell_type": "raw",
   "id": "e54b4104-c06b-41f8-a7d6-63b8e78f758b",
   "metadata": {},
   "source": [
    "git checkout <branch_name>"
   ]
  },
  {
   "cell_type": "markdown",
   "id": "687ff86e-61ea-47d3-9b6b-1988d9ab644b",
   "metadata": {},
   "source": [
    "Then can use standard \"git add\", \"git commit\""
   ]
  },
  {
   "cell_type": "markdown",
   "id": "45eea69d-ebbf-4c25-8cdf-dc8fa1ac85af",
   "metadata": {},
   "source": [
    "### REMOTE BRANCH CREATION ###"
   ]
  },
  {
   "cell_type": "raw",
   "id": "db94ca32-df7f-4dd3-ad9b-e71f7505bfb7",
   "metadata": {},
   "source": [
    "git remote add <branch> <master_site?>"
   ]
  },
  {
   "cell_type": "code",
   "execution_count": null,
   "id": "eb2e12f8-041d-4820-8f9b-57b69dc381d5",
   "metadata": {},
   "outputs": [],
   "source": []
  },
  {
   "cell_type": "markdown",
   "id": "8127e277-a1d4-4be8-91d9-f8d9cdca1c6a",
   "metadata": {},
   "source": [
    "### MERGING ###"
   ]
  },
  {
   "cell_type": "raw",
   "id": "9175b4e2-4898-4959-8606-b1b42e3333f7",
   "metadata": {},
   "source": [
    "git checkout <master_branch>\n",
    "git merge <feature_branch>"
   ]
  }
 ],
 "metadata": {
  "kernelspec": {
   "display_name": "Python 3 (ipykernel)",
   "language": "python",
   "name": "python3"
  },
  "language_info": {
   "codemirror_mode": {
    "name": "ipython",
    "version": 3
   },
   "file_extension": ".py",
   "mimetype": "text/x-python",
   "name": "python",
   "nbconvert_exporter": "python",
   "pygments_lexer": "ipython3",
   "version": "3.11.5"
  }
 },
 "nbformat": 4,
 "nbformat_minor": 5
}
